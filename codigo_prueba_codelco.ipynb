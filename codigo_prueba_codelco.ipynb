{
  "nbformat": 4,
  "nbformat_minor": 0,
  "metadata": {
    "colab": {
      "name": "codigo_prueba_codelco.ipynb",
      "provenance": [],
      "authorship_tag": "ABX9TyNvSMT120i3/MWkq+B74KWu",
      "include_colab_link": true
    },
    "kernelspec": {
      "name": "python3",
      "display_name": "Python 3"
    },
    "language_info": {
      "name": "python"
    }
  },
  "cells": [
    {
      "cell_type": "markdown",
      "metadata": {
        "id": "view-in-github",
        "colab_type": "text"
      },
      "source": [
        "<a href=\"https://colab.research.google.com/github/bastianpardo/saliency_metrics/blob/master/codigo_prueba_codelco.ipynb\" target=\"_parent\"><img src=\"https://colab.research.google.com/assets/colab-badge.svg\" alt=\"Open In Colab\"/></a>"
      ]
    },
    {
      "cell_type": "code",
      "execution_count": 97,
      "metadata": {
        "id": "N2fcMywdkRcT"
      },
      "outputs": [],
      "source": [
        "def funcion (lista):\n",
        "\n",
        "  d= {1: 'I', 2: 'II', 3:'III', 4: 'IV', 5:'V', 6:'VI', 7:'VII', 8:'VIII', 9:'IX', 10:'X', 20:'XX'}\n",
        "\n",
        "  d_r = { v: k  for k, v  in  d.items()}\n",
        "  l=[]\n",
        "  for name in lista:\n",
        "   l.append(name.replace(name.split( ' ')[1], str(d_r[name.split( ' ')[1]])) )\n",
        "  l.sort()\n",
        "  ll=[]\n",
        "  for name in l:\n",
        "   ll.append(name.replace(name.split( ' ')[1], str( d[int(name.split( ' ')[1])] ) ) ) \n",
        "\n",
        "  \n",
        "  return ll"
      ]
    },
    {
      "cell_type": "code",
      "source": [
        "\n",
        "d= {1: 'I', 2: 'II', 3:'III', 4: 'IV', 5:'V', 6:'VI', 7:'VII', 8:'VIII', 9:'IX', 10:'X'}\n",
        "\n",
        "d_r = { v: k  for k, v  in  d.items()}"
      ],
      "metadata": {
        "id": "vRCxMatVmE5b"
      },
      "execution_count": 98,
      "outputs": []
    },
    {
      "cell_type": "code",
      "source": [
        ""
      ],
      "metadata": {
        "id": "h4HXl87CmMya"
      },
      "execution_count": 99,
      "outputs": []
    },
    {
      "cell_type": "code",
      "source": [
        "funcion(n)"
      ],
      "metadata": {
        "colab": {
          "base_uri": "https://localhost:8080/"
        },
        "id": "Rh85i6l8msTz",
        "outputId": "37b2d6eb-854e-41ce-f798-fb2096d3114f"
      },
      "execution_count": 100,
      "outputs": [
        {
          "output_type": "execute_result",
          "data": {
            "text/plain": [
              "['juan I', 'juan XX', 'miguel I', 'miguel X', 'miguel II']"
            ]
          },
          "metadata": {},
          "execution_count": 100
        }
      ]
    },
    {
      "cell_type": "code",
      "source": [
        "import pandas as pd\n",
        "def roman_n(name):\n",
        "  s=0\n",
        "  p= name.find('  ')\n",
        "\n",
        "  if 'XL'in name.split( ' ')[1]:\n",
        "    name=name.replace('XL', '')\n",
        "    s=s+40\n",
        "\n",
        "  if 'IV' in name.split( ' ')[1]:\n",
        "    name= name.replace('IV', '')\n",
        "    s=s+4\n",
        "\n",
        "  if 'V'in name.split( ' ')[1]:\n",
        "    name=name.replace('V', '5')\n",
        "    s=s+5\n",
        "  if 'IX' in name.split( ' ')[1]:\n",
        "    name=name.replace('IX', '')\n",
        "    s=s+9\n",
        "  \n",
        "  if 'XX'in name.split( ' ')[1]:\n",
        "    name=name.replace('X', '')\n",
        "    s=s+20\n",
        "  if 'XXX'in name.split( ' ')[1]:\n",
        "    name=name.replace('X', '')\n",
        "    s=s+30\n",
        "\n",
        "  if 'X'in name.split( ' ')[1]:\n",
        "    name=name.replace('X', '')\n",
        "    s=s+10\n",
        " \n",
        "\n",
        "  if 'L'in name.split( ' ')[1]:\n",
        "    name=name.replace('L', '')\n",
        "    s=s+50\n",
        "\n",
        "\n",
        "\n",
        "  if 'II'in name.split( ' ')[1]:\n",
        "    name=name.replace('II', '')\n",
        "    s=s+2\n",
        "  if 'III'in name.split( ' ')[1]:\n",
        "    name=name.replace('III', '')\n",
        "    s=s+3\n",
        "\n",
        "  if 'I'in name.split( ' ')[1]:\n",
        "    name=name.replace('I', '')    \n",
        "    s=s+1\n",
        " \n",
        "\n",
        "\n",
        "  return s\n",
        "\n",
        "\n",
        "n= ['miguel II', 'miguel X', 'miguel I', 'juan XX', 'juan I']\n",
        "\n",
        "def funcion (lista):\n",
        "\n",
        "  d= {1: 'I', 2: 'II', 3:'III', 4: 'IV', 5:'V', 6:'VI', 7:'VII', 8:'VIII', 9:'IX', 10:'X', 20:'XX'}\n",
        "  d_r = { v: k  for k, v  in  d.items()}\n",
        "  l=[]\n",
        "  for name in lista:\n",
        "   l.append(name.replace(name.split( ' ')[1], str(d_r[name.split( ' ')[1]])).split(' ')  )\n",
        " \n",
        "  df= pd.DataFrame(l, columns=['nombre', 'number'])\n",
        "  df['number']= df['number'].astype(int)\n",
        "\n",
        "  df['final']= df.apply(lambda x: str(x.nombre)+' ' +str(d[x.number ]) , axis=1  )\n",
        "  df= df.sort_values(by=['nombre','number'])\n",
        "  return df['final'].to_list()"
      ],
      "metadata": {
        "id": "s4W4rCPZn5w6"
      },
      "execution_count": 143,
      "outputs": []
    },
    {
      "cell_type": "code",
      "source": [
        "funcion(n)"
      ],
      "metadata": {
        "colab": {
          "base_uri": "https://localhost:8080/"
        },
        "id": "N3u2zzNIubYu",
        "outputId": "abad96b5-58ee-4f30-eaf9-fcaaa9c44961"
      },
      "execution_count": 144,
      "outputs": [
        {
          "output_type": "execute_result",
          "data": {
            "text/plain": [
              "['juan I', 'juan XX', 'miguel I', 'miguel II', 'miguel X']"
            ]
          },
          "metadata": {},
          "execution_count": 144
        }
      ]
    },
    {
      "cell_type": "code",
      "source": [
        "def roman_n(name):\n",
        "  s=0\n",
        "  p= name.find('  ')\n",
        "\n",
        "  if 'XL'in name.split( ' ')[1]:\n",
        "    name=name.replace('XL', '')\n",
        "    s=s+40\n",
        "\n",
        "  if 'IV' in name.split( ' ')[1]:\n",
        "    name= name.replace('IV', '')\n",
        "    s=s+4\n",
        "\n",
        "  if 'V'in name.split( ' ')[1]:\n",
        "    name=name.replace('V', '5')\n",
        "    s=s+5\n",
        "  if 'IX' in name.split( ' ')[1]:\n",
        "    name=name.replace('IX', '')\n",
        "    s=s+9\n",
        "  \n",
        "  if 'XX'in name.split( ' ')[1]:\n",
        "    name=name.replace('X', '')\n",
        "    s=s+20\n",
        "  if 'XXX'in name.split( ' ')[1]:\n",
        "    name=name.replace('X', '')\n",
        "    s=s+30\n",
        "\n",
        "  if 'X'in name.split( ' ')[1]:\n",
        "    name=name.replace('X', '')\n",
        "    s=s+10\n",
        " \n",
        "\n",
        "  if 'L'in name.split( ' ')[1]:\n",
        "    name=name.replace('L', '')\n",
        "    s=s+50\n",
        "\n",
        "\n",
        "\n",
        "  if 'II'in name.split( ' ')[1]:\n",
        "    name=name.replace('II', '')\n",
        "    s=s+2\n",
        "  if 'III'in name.split( ' ')[1]:\n",
        "    name=name.replace('III', '')\n",
        "    s=s+3\n",
        "\n",
        "  if 'I'in name.split( ' ')[1]:\n",
        "    name=name.replace('I', '')    \n",
        "    s=s+1\n",
        " \n",
        "\n",
        "\n",
        "  return s\n"
      ],
      "metadata": {
        "id": "ktLn8WhTvEZv"
      },
      "execution_count": 163,
      "outputs": []
    },
    {
      "cell_type": "code",
      "source": [
        "n= 'XX'\n",
        "\n",
        "n.replace('XLIX', '10')\n",
        "n"
      ],
      "metadata": {
        "colab": {
          "base_uri": "https://localhost:8080/",
          "height": 35
        },
        "id": "Pingiyzk3FuB",
        "outputId": "c405da10-6a42-4e3d-ef25-6f2b725b856a"
      },
      "execution_count": 164,
      "outputs": [
        {
          "output_type": "execute_result",
          "data": {
            "application/vnd.google.colaboratory.intrinsic+json": {
              "type": "string"
            },
            "text/plain": [
              "'XX'"
            ]
          },
          "metadata": {},
          "execution_count": 164
        }
      ]
    },
    {
      "cell_type": "code",
      "source": [
        "roman_n('Iñejando LV')"
      ],
      "metadata": {
        "colab": {
          "base_uri": "https://localhost:8080/"
        },
        "id": "IUPmgW4n2oxc",
        "outputId": "c42f9919-282b-470c-8a1b-26e9ac4fe33e"
      },
      "execution_count": 184,
      "outputs": [
        {
          "output_type": "execute_result",
          "data": {
            "text/plain": [
              "55"
            ]
          },
          "metadata": {},
          "execution_count": 184
        }
      ]
    },
    {
      "cell_type": "code",
      "source": [
        ""
      ],
      "metadata": {
        "id": "xXJoW6EP2sXE"
      },
      "execution_count": 165,
      "outputs": []
    }
  ]
}